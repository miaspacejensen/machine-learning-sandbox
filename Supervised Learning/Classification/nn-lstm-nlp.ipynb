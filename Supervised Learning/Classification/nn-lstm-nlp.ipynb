{
 "cells": [
  {
   "cell_type": "code",
   "execution_count": null,
   "id": "da3be704",
   "metadata": {},
   "outputs": [
    {
     "name": "stderr",
     "output_type": "stream",
     "text": [
      "[nltk_data] Downloading package punkt to\n",
      "[nltk_data]     C:\\Users\\mia.jensen\\AppData\\Roaming\\nltk_data...\n",
      "[nltk_data]   Package punkt is already up-to-date!\n",
      "[nltk_data] Downloading package wordnet to\n",
      "[nltk_data]     C:\\Users\\mia.jensen\\AppData\\Roaming\\nltk_data...\n",
      "[nltk_data]   Package wordnet is already up-to-date!\n"
     ]
    }
   ],
   "source": [
    "import numpy as np\n",
    "import pandas as pd\n",
    "\n",
    "import re\n",
    "\n",
    "import nltk\n",
    "from nltk import pos_tag\n",
    "from nltk.corpus import stopwords\n",
    "from nltk.stem import WordNetLemmatizer\n",
    "from nltk.tokenize import word_tokenize\n",
    "\n",
    "import matplotlib.pyplot as plt\n",
    "\n",
    "from sklearn.model_selection import train_test_split\n",
    "\n",
    "from tensorflow.keras.preprocessing.text import Tokenizer\n",
    "from tensorflow.keras.preprocessing.sequence import pad_sequences\n",
    "from tensorflow.keras.models import Sequential\n",
    "from tensorflow.keras.layers import LSTM, Dense, Embedding, Bidirectional, Dropout, BatchNormalization\n",
    "from tensorflow.keras.callbacks import EarlyStopping, ReduceLROnPlateau\n",
    "from keras.optimizers import Adam\n",
    "from keras import regularizers"
   ]
  },
  {
   "cell_type": "markdown",
   "id": "21d09f67",
   "metadata": {},
   "source": [
    "### Data Collection"
   ]
  },
  {
   "cell_type": "code",
   "execution_count": 17,
   "id": "bee31bb7",
   "metadata": {},
   "outputs": [
    {
     "data": {
      "text/html": [
       "<div>\n",
       "<style scoped>\n",
       "    .dataframe tbody tr th:only-of-type {\n",
       "        vertical-align: middle;\n",
       "    }\n",
       "\n",
       "    .dataframe tbody tr th {\n",
       "        vertical-align: top;\n",
       "    }\n",
       "\n",
       "    .dataframe thead th {\n",
       "        text-align: right;\n",
       "    }\n",
       "</style>\n",
       "<table border=\"1\" class=\"dataframe\">\n",
       "  <thead>\n",
       "    <tr style=\"text-align: right;\">\n",
       "      <th></th>\n",
       "      <th>sentiment</th>\n",
       "      <th>review</th>\n",
       "    </tr>\n",
       "  </thead>\n",
       "  <tbody>\n",
       "    <tr>\n",
       "      <th>0</th>\n",
       "      <td>1</td>\n",
       "      <td>\"With all this stuff going down at the moment ...</td>\n",
       "    </tr>\n",
       "    <tr>\n",
       "      <th>1</th>\n",
       "      <td>1</td>\n",
       "      <td>\"\\\"The Classic War of the Worlds\\\" by Timothy ...</td>\n",
       "    </tr>\n",
       "    <tr>\n",
       "      <th>2</th>\n",
       "      <td>0</td>\n",
       "      <td>\"The film starts with a manager (Nicholas Bell...</td>\n",
       "    </tr>\n",
       "  </tbody>\n",
       "</table>\n",
       "</div>"
      ],
      "text/plain": [
       "   sentiment                                             review\n",
       "0          1  \"With all this stuff going down at the moment ...\n",
       "1          1  \"\\\"The Classic War of the Worlds\\\" by Timothy ...\n",
       "2          0  \"The film starts with a manager (Nicholas Bell..."
      ]
     },
     "metadata": {},
     "output_type": "display_data"
    }
   ],
   "source": [
    "df = pd.read_csv(\"../../Datasets/sentiment_analysis/labeledTrainData.tsv\", header=0, delimiter=\"\\t\", quoting=3)\n",
    "df = df.drop(columns=[\"id\"])\n",
    "display(df.head(3))  "
   ]
  },
  {
   "cell_type": "markdown",
   "id": "4c7e415a",
   "metadata": {},
   "source": [
    "### Data Preprocessing - Cleaning, Lematisation, Stemming, Stopwords"
   ]
  },
  {
   "cell_type": "code",
   "execution_count": 18,
   "id": "09340e0a",
   "metadata": {},
   "outputs": [],
   "source": [
    "# clean text \n",
    "#  - remove HTML tags\n",
    "#  - remove special characters\n",
    "#  - convert to lowercase\n",
    "\n",
    "def clean_text(text):\n",
    "    text = re.sub(r'<.*?>', '', text)\n",
    "    text = re.sub(r'[^a-zA-Z\\s]', '', text)\n",
    "    text = text.lower()\n",
    "    return text\n",
    "\n",
    "df['cleaned_review'] = df['review'].apply(clean_text)"
   ]
  },
  {
   "cell_type": "code",
   "execution_count": null,
   "id": "09833a6c",
   "metadata": {},
   "outputs": [],
   "source": [
    "# lemmatise words (reduce words to base forms)\n",
    "\n",
    "nltk.download('punkt')\n",
    "nltk.download('wordnet')\n",
    "\n",
    "lem = WordNetLemmatizer()\n",
    "\n",
    "def penn2morphy(penntag):\n",
    "    morphy_tag = {'NN':'n', 'JJ':'a', 'VB':'v', 'RB':'r'}\n",
    "    try:\n",
    "        return morphy_tag[penntag[:2]]\n",
    "    except:\n",
    "        return 'n' \n",
    "\n",
    "def lemmatize_text(text):\n",
    "    words = word_tokenize(text)\n",
    "    lemmatized_words = [lem.lemmatize(word.lower(), pos=penn2morphy(tag)) for word, tag in pos_tag(words)]\n",
    "    return ' '.join(lemmatized_words)\n",
    "\n",
    "df['lemmatized_review'] = df['cleaned_review'].apply(lemmatize_text)"
   ]
  },
  {
   "cell_type": "code",
   "execution_count": 39,
   "id": "d0dd4f6f",
   "metadata": {},
   "outputs": [
    {
     "name": "stderr",
     "output_type": "stream",
     "text": [
      "[nltk_data] Downloading package stopwords to\n",
      "[nltk_data]     C:\\Users\\mia.jensen\\AppData\\Roaming\\nltk_data...\n",
      "[nltk_data]   Package stopwords is already up-to-date!\n"
     ]
    }
   ],
   "source": [
    "# remove stop words\n",
    "\n",
    "nltk.download('stopwords')\n",
    "\n",
    "stop_words = set(stopwords.words('english'))\n",
    "stop_words_no_special_chars = {re.sub(r'[^a-zA-Z\\s]', '', word) for word in stop_words}\n",
    "all_stop_words = stop_words.union(stop_words_no_special_chars)\n",
    "\n",
    "def remove_stopwords(text):\n",
    "    words = word_tokenize(text)\n",
    "    filtered_words = [word for word in words if word not in stop_words]\n",
    "    return ' '.join(filtered_words)\n",
    "\n",
    "df['final_review'] = df['lemmatized_review'].apply(remove_stopwords)"
   ]
  },
  {
   "cell_type": "code",
   "execution_count": 43,
   "id": "e9705b52",
   "metadata": {},
   "outputs": [
    {
     "name": "stdout",
     "output_type": "stream",
     "text": [
      "Training Data Input Shape:  (17500,)\n",
      "Training Data Output Shape:  (17500,)\n",
      "Testing Data Input Shape:  (7500,)\n",
      "Testing Data Output Shape:  (7500,)\n"
     ]
    }
   ],
   "source": [
    "# Data train test split\n",
    "\n",
    "X = df[\"final_review\"].to_numpy()\n",
    "y = df[\"sentiment\"].to_numpy()\n",
    "\n",
    "X_train, X_test, y_train, y_test = train_test_split(X, y, test_size=0.3, random_state=42, stratify=y)\n",
    "\n",
    "print(\"Training Data Input Shape: \", X_train.shape)\n",
    "print(\"Training Data Output Shape: \", y_train.shape)\n",
    "print(\"Testing Data Input Shape: \", X_test.shape)\n",
    "print(\"Testing Data Output Shape: \", y_test.shape)"
   ]
  },
  {
   "cell_type": "code",
   "execution_count": 44,
   "id": "6711d9a9",
   "metadata": {},
   "outputs": [
    {
     "name": "stdout",
     "output_type": "stream",
     "text": [
      "Number of Documents:  17500\n",
      "Number of Words:  10000\n"
     ]
    }
   ],
   "source": [
    "# tokenise text corpus\n",
    "\n",
    "vocab_size = 10000\n",
    "oov_tok = \"<OOV>\"\n",
    "tokenizer = Tokenizer(num_words=vocab_size, oov_token=oov_tok)\n",
    "\n",
    "tokenizer.fit_on_texts(X_train)\n",
    "\n",
    "print(\"Number of Documents: \", tokenizer.document_count)\n",
    "print(\"Number of Words: \", tokenizer.num_words)"
   ]
  },
  {
   "cell_type": "code",
   "execution_count": 66,
   "id": "ef872aab",
   "metadata": {},
   "outputs": [],
   "source": [
    "# convert reviews into number sequences, with padding\n",
    "# Sequences greater than seq_length will be truncated. Sequences less than seq_length will be padded with zeros.\n",
    "\n",
    "seq_length = 200\n",
    "\n",
    "train_seqs = tokenizer.texts_to_sequences(X_train)\n",
    "train_padded = pad_sequences(train_seqs, maxlen=seq_length, padding='post', truncating='post')\n",
    "\n",
    "test_seqs = tokenizer.texts_to_sequences(X_test)\n",
    "test_padded = pad_sequences(test_seqs, maxlen=seq_length, padding='post', truncating='post')"
   ]
  },
  {
   "cell_type": "markdown",
   "id": "58049196",
   "metadata": {},
   "source": [
    "### Model - Build, Train, Evaluate"
   ]
  },
  {
   "cell_type": "code",
   "execution_count": 67,
   "id": "28781834",
   "metadata": {},
   "outputs": [
    {
     "name": "stdout",
     "output_type": "stream",
     "text": [
      "Model: \"sequential_5\"\n",
      "_________________________________________________________________\n",
      " Layer (type)                Output Shape              Param #   \n",
      "=================================================================\n",
      " embedding_5 (Embedding)     (None, 200, 128)          1280000   \n",
      "                                                                 \n",
      " bidirectional_2 (Bidirectio  (None, 256)              263168    \n",
      " nal)                                                            \n",
      "                                                                 \n",
      " dropout_3 (Dropout)         (None, 256)               0         \n",
      "                                                                 \n",
      " dense_7 (Dense)             (None, 1)                 257       \n",
      "                                                                 \n",
      "=================================================================\n",
      "Total params: 1,543,425\n",
      "Trainable params: 1,543,425\n",
      "Non-trainable params: 0\n",
      "_________________________________________________________________\n"
     ]
    }
   ],
   "source": [
    "# build model\n",
    "\n",
    "model = Sequential()\n",
    "\n",
    "embedding_dim = 128\n",
    "model.add(Embedding(input_dim=vocab_size, output_dim=embedding_dim, input_length=seq_length))\n",
    "model.add(Bidirectional(LSTM(units=128)))\n",
    "model.add(Dropout(0.2))\n",
    "model.add(Dense(1, activation='sigmoid'))\n",
    "\n",
    "model.summary()"
   ]
  },
  {
   "cell_type": "code",
   "execution_count": 68,
   "id": "1125f5c2",
   "metadata": {},
   "outputs": [],
   "source": [
    "# compile model\n",
    "\n",
    "model.compile(\n",
    "    loss='binary_crossentropy', \n",
    "    optimizer=Adam(learning_rate=0.001),\n",
    "    metrics=['accuracy']\n",
    ")"
   ]
  },
  {
   "cell_type": "code",
   "execution_count": 69,
   "id": "0bcd77b1",
   "metadata": {},
   "outputs": [
    {
     "name": "stdout",
     "output_type": "stream",
     "text": [
      "Epoch 1/30\n",
      "274/274 [==============================] - 556s 2s/step - loss: 0.4923 - accuracy: 0.7548 - val_loss: 0.3837 - val_accuracy: 0.8587\n",
      "Epoch 2/30\n",
      "274/274 [==============================] - 709s 3s/step - loss: 0.2621 - accuracy: 0.8995 - val_loss: 0.3150 - val_accuracy: 0.8724\n",
      "Epoch 3/30\n",
      "274/274 [==============================] - 708s 3s/step - loss: 0.1869 - accuracy: 0.9337 - val_loss: 0.4172 - val_accuracy: 0.8472\n",
      "Epoch 4/30\n",
      "274/274 [==============================] - 719s 3s/step - loss: 0.1892 - accuracy: 0.9306 - val_loss: 0.3975 - val_accuracy: 0.8524\n",
      "Epoch 5/30\n",
      "274/274 [==============================] - 753s 3s/step - loss: 0.1400 - accuracy: 0.9515 - val_loss: 0.5586 - val_accuracy: 0.8453\n",
      "Epoch 6/30\n",
      "274/274 [==============================] - 789s 3s/step - loss: 0.1050 - accuracy: 0.9649 - val_loss: 0.5081 - val_accuracy: 0.8496\n",
      "Epoch 7/30\n",
      "274/274 [==============================] - 768s 3s/step - loss: 0.0885 - accuracy: 0.9710 - val_loss: 0.5250 - val_accuracy: 0.8531\n",
      "Epoch 8/30\n",
      "274/274 [==============================] - 746s 3s/step - loss: 0.0697 - accuracy: 0.9788 - val_loss: 0.6314 - val_accuracy: 0.8495\n",
      "Epoch 9/30\n",
      "274/274 [==============================] - 714s 3s/step - loss: 0.0591 - accuracy: 0.9825 - val_loss: 0.5802 - val_accuracy: 0.8529\n",
      "Epoch 10/30\n",
      "274/274 [==============================] - 745s 3s/step - loss: 0.0529 - accuracy: 0.9848 - val_loss: 0.6220 - val_accuracy: 0.8447\n",
      "Epoch 11/30\n",
      "274/274 [==============================] - 761s 3s/step - loss: 0.0743 - accuracy: 0.9775 - val_loss: 0.5723 - val_accuracy: 0.7687\n",
      "Epoch 12/30\n",
      "274/274 [==============================] - 766s 3s/step - loss: 0.1064 - accuracy: 0.9679 - val_loss: 0.6338 - val_accuracy: 0.8537\n"
     ]
    }
   ],
   "source": [
    "# train model\n",
    "\n",
    "history = model.fit(\n",
    "    train_padded, y_train, \n",
    "    epochs=30, \n",
    "    batch_size=64,\n",
    "    validation_data=(test_padded, y_test), \n",
    "    callbacks=[EarlyStopping(patience=10)]\n",
    ")"
   ]
  },
  {
   "cell_type": "code",
   "execution_count": 61,
   "id": "7d4275bd",
   "metadata": {},
   "outputs": [
    {
     "data": {
      "text/html": [
       "<div>\n",
       "<style scoped>\n",
       "    .dataframe tbody tr th:only-of-type {\n",
       "        vertical-align: middle;\n",
       "    }\n",
       "\n",
       "    .dataframe tbody tr th {\n",
       "        vertical-align: top;\n",
       "    }\n",
       "\n",
       "    .dataframe thead th {\n",
       "        text-align: right;\n",
       "    }\n",
       "</style>\n",
       "<table border=\"1\" class=\"dataframe\">\n",
       "  <thead>\n",
       "    <tr style=\"text-align: right;\">\n",
       "      <th></th>\n",
       "      <th>loss</th>\n",
       "      <th>accuracy</th>\n",
       "      <th>val_loss</th>\n",
       "      <th>val_accuracy</th>\n",
       "    </tr>\n",
       "  </thead>\n",
       "  <tbody>\n",
       "    <tr>\n",
       "      <th>0</th>\n",
       "      <td>0.693431</td>\n",
       "      <td>0.513029</td>\n",
       "      <td>0.691907</td>\n",
       "      <td>0.510000</td>\n",
       "    </tr>\n",
       "    <tr>\n",
       "      <th>1</th>\n",
       "      <td>0.677048</td>\n",
       "      <td>0.544629</td>\n",
       "      <td>0.689488</td>\n",
       "      <td>0.513200</td>\n",
       "    </tr>\n",
       "    <tr>\n",
       "      <th>2</th>\n",
       "      <td>0.657752</td>\n",
       "      <td>0.554343</td>\n",
       "      <td>0.694571</td>\n",
       "      <td>0.512400</td>\n",
       "    </tr>\n",
       "    <tr>\n",
       "      <th>3</th>\n",
       "      <td>0.626547</td>\n",
       "      <td>0.564286</td>\n",
       "      <td>0.697840</td>\n",
       "      <td>0.536400</td>\n",
       "    </tr>\n",
       "    <tr>\n",
       "      <th>4</th>\n",
       "      <td>0.610869</td>\n",
       "      <td>0.629486</td>\n",
       "      <td>0.708342</td>\n",
       "      <td>0.506533</td>\n",
       "    </tr>\n",
       "    <tr>\n",
       "      <th>5</th>\n",
       "      <td>0.642868</td>\n",
       "      <td>0.569714</td>\n",
       "      <td>0.701813</td>\n",
       "      <td>0.506400</td>\n",
       "    </tr>\n",
       "    <tr>\n",
       "      <th>6</th>\n",
       "      <td>0.601740</td>\n",
       "      <td>0.621143</td>\n",
       "      <td>0.716304</td>\n",
       "      <td>0.711333</td>\n",
       "    </tr>\n",
       "  </tbody>\n",
       "</table>\n",
       "</div>"
      ],
      "text/plain": [
       "       loss  accuracy  val_loss  val_accuracy\n",
       "0  0.693431  0.513029  0.691907      0.510000\n",
       "1  0.677048  0.544629  0.689488      0.513200\n",
       "2  0.657752  0.554343  0.694571      0.512400\n",
       "3  0.626547  0.564286  0.697840      0.536400\n",
       "4  0.610869  0.629486  0.708342      0.506533\n",
       "5  0.642868  0.569714  0.701813      0.506400\n",
       "6  0.601740  0.621143  0.716304      0.711333"
      ]
     },
     "metadata": {},
     "output_type": "display_data"
    },
    {
     "data": {
      "image/png": "[encoded data removed]",
      "text/plain": [
       "<Figure size 1000x500 with 1 Axes>"
      ]
     },
     "metadata": {},
     "output_type": "display_data"
    },
    {
     "data": {
      "image/png": "[encoded data removed]",
      "text/plain": [
       "<Figure size 1000x500 with 1 Axes>"
      ]
     },
     "metadata": {},
     "output_type": "display_data"
    }
   ],
   "source": [
    "df_metrics = pd.DataFrame(history.history)\n",
    "display(df_metrics)\n",
    "\n",
    "plt.figure(figsize=(10,5))\n",
    "plt.plot(df_metrics.index, df_metrics.accuracy)\n",
    "plt.plot(df_metrics.index, df_metrics.val_accuracy)\n",
    "plt.title('Accuracy')\n",
    "plt.xlabel('Epochs')\n",
    "plt.ylabel('Accuracy')\n",
    "plt.legend(['Training', 'Validation'])\n",
    "plt.show()\n",
    "\n",
    "plt.figure(figsize=(10,5))\n",
    "plt.plot(df_metrics.index, df_metrics.loss)\n",
    "plt.plot(df_metrics.index, df_metrics.val_loss)\n",
    "plt.title('Loss')\n",
    "plt.xlabel('Epochs')\n",
    "plt.ylabel('Loss')\n",
    "plt.legend(['Training', 'Validation'])\n",
    "plt.show()"
   ]
  }
 ],
 "metadata": {
  "kernelspec": {
   "display_name": "Python_3_11_11",
   "language": "python",
   "name": "python3"
  },
  "language_info": {
   "codemirror_mode": {
    "name": "ipython",
    "version": 3
   },
   "file_extension": ".py",
   "mimetype": "text/x-python",
   "name": "python",
   "nbconvert_exporter": "python",
   "pygments_lexer": "ipython3",
   "version": "3.11.11"
  }
 },
 "nbformat": 4,
 "nbformat_minor": 5
}
